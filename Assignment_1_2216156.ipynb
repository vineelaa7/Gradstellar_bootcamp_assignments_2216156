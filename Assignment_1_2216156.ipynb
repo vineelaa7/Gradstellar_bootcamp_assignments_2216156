{
  "nbformat": 4,
  "nbformat_minor": 0,
  "metadata": {
    "colab": {
      "provenance": [],
      "authorship_tag": "ABX9TyMxMspQ6c8dh2Q7DIJgzfey",
      "include_colab_link": true
    },
    "kernelspec": {
      "name": "python3",
      "display_name": "Python 3"
    },
    "language_info": {
      "name": "python"
    }
  },
  "cells": [
    {
      "cell_type": "markdown",
      "metadata": {
        "id": "view-in-github",
        "colab_type": "text"
      },
      "source": [
        "<a href=\"https://colab.research.google.com/github/vineelaa7/Gradstellar_bootcamp_assignments_2216156/blob/main/Assignment_1_2216156.ipynb\" target=\"_parent\"><img src=\"https://colab.research.google.com/assets/colab-badge.svg\" alt=\"Open In Colab\"/></a>"
      ]
    },
    {
      "cell_type": "code",
      "source": [
        "#string methods\n",
        "\n",
        "str=input(\"Enter your value: \")\n",
        "\n",
        "#Converts the first character to upper case\n",
        "s = str.capitalize()\n",
        "print(s)\n",
        "\n",
        "#Returns True if all characters in the string are upper case else false\n",
        "x=str.isupper()\n",
        "print(x)\n",
        "\n",
        "#Swaps cases, lower case becomes upper case and vice versa\n",
        "a=str.swapcase()\n",
        "print(a)\n",
        "\n",
        "#Splits the string at the specified separator, and returns a list\n",
        "r=str.rsplit()\n",
        "print(r)\n",
        "\n",
        "#Returns True if all characters in the string are lower case\n",
        "l=str.islower()\n",
        "print(l)5\n"
      ],
      "metadata": {
        "id": "q39h8W6ePKhc"
      },
      "execution_count": null,
      "outputs": []
    },
    {
      "cell_type": "code",
      "source": [
        "\n",
        "#list methods\n",
        "\n",
        "gradstellar = ['sivaram', 'areefa', 'artificial intelligence', 'machine learning']\n",
        "\n",
        "#The append() method appends an element to the end of the list.\n",
        "gradstellar.append(\"bootcamp\")\n",
        "print(gradstellar)\n",
        "\n",
        "#Reverses the order of the list\n",
        "gradstellar.reverse()\t\n",
        "print(gradstellar)\n",
        "\n",
        "#Removes the element at the specified position\n",
        "gradstellar.pop(2)\n",
        "print(gradstellar)\n",
        "\n",
        "#Adds an element at the specified position\n",
        "gradstellar.insert(0,\"vineeela\")\n",
        "print(gradstellar)\n",
        "\n",
        "#Removes all the elements from the list\n",
        "gradstellar.clear()\t\n",
        "print(gradstellar)\n",
        "\n",
        "\n",
        "\n"
      ],
      "metadata": {
        "id": "nLNoahVgUnRN"
      },
      "execution_count": null,
      "outputs": []
    },
    {
      "cell_type": "code",
      "source": [
        "#tuple methods\n",
        "#tuples are unchangeable\n",
        "tuple = (\"siva\", \"siva\", \"areefa\", \"aiml\", \"siva\")\n",
        "\n",
        "#Searches the tuple for a specified value and returns the position of where it was found\n",
        "x = tuple.index(\"areefa\")\n",
        "print(x)\n",
        "\n",
        "#The count() method returns the number of times a specified value appears in the tuple.\n",
        "y = tuple.count(\"siva\")\n",
        "print(y)\n"
      ],
      "metadata": {
        "id": "e7pWF7ApesXK"
      },
      "execution_count": null,
      "outputs": []
    },
    {
      "cell_type": "code",
      "source": [
        "#dictionary methods\n",
        "dict = {\n",
        "  \"bootcamp\": \"aiml\",\n",
        "  \"teacher\": \"sivaram\",\n",
        "  \"duration\": \"2 months\"\n",
        "}\n",
        "\n",
        "x = dict[\"bootcamp\"]\n",
        "print(x)\n",
        "\n",
        "y = dict.get(\"bootcamp\")\n",
        "print(y)\n",
        "\n",
        "dict[\"teacher\"] = \"areefa\"\n",
        "print(dict)\n",
        "\n",
        "dict[\"tools\"] = \"google colab\"\n",
        "print(dict)\n",
        "\n",
        "dict.pop(\"duration\")\n",
        "print(dict)\n",
        "\n",
        "for x in dict:\n",
        "  print(dict[x])\n",
        "\n",
        "mydict = dict.copy()\n",
        "print(mydict)\n",
        "\n",
        "\n",
        "#nested dicts\n",
        "student1 = {\n",
        "  \"name\" : \"vineela\",\n",
        "  \"year\" : 2002\n",
        "}\n",
        "student2 = {\n",
        "  \"name\" : \"vaishnavi\",\n",
        "  \"year\" : 2007\n",
        "}\n",
        "student3 = {\n",
        "  \"name\" : \"areefa\",\n",
        "  \"year\" : 2001\n",
        "}\n",
        "\n",
        "gradstellar = {\n",
        "  \"student1\" : student1,\n",
        "  \"student2\" : student2,\n",
        "  \"student3\" : student3\n",
        "}\n",
        "print(gradstellar)"
      ],
      "metadata": {
        "id": "h1m4KQwVf2qH"
      },
      "execution_count": null,
      "outputs": []
    },
    {
      "cell_type": "code",
      "source": [
        "#set\n",
        "gradstellar = {\"sivaram\", \"areefa\", \"vineela\"}\n",
        "\n",
        "#add an element\n",
        "gradstellar.add(\"sreeman\")\n",
        "print(gradstellar)\n",
        "\n",
        "#Removes an element from the set\n",
        "gradstellar.pop()\n",
        "print(gradstellar)\n",
        "\n",
        "#difference\n",
        "gradstellar = {\"sivaram\", \"areefa\", \"vineela\"}\n",
        "gradstellar2 = {\"sivaram\", \"areefa\", \"vaishnavi\"}\n",
        "z = gradstellar.difference(gradstellar2)\n",
        "print(z)\n",
        "\n",
        "#Removes all the elements from the set\n",
        "gradstellar.clear()\n",
        "print(gradstellar)\n",
        "\n",
        "\n"
      ],
      "metadata": {
        "id": "T4ufIZk1bGuo"
      },
      "execution_count": null,
      "outputs": []
    },
    {
      "cell_type": "code",
      "source": [
        "#Write a python program to convert Decimal to Binary, Octal and Hexadecimal with direct method\n",
        "num = int(input())\n",
        "\n",
        "\n",
        "print(bin(num))\n",
        "print(oct(num))\n",
        "print(hex(num))\n"
      ],
      "metadata": {
        "id": "J9BooCZnd5XZ"
      },
      "execution_count": null,
      "outputs": []
    },
    {
      "cell_type": "code",
      "source": [
        "#Arithmetic Operators\n",
        "x=int(input())\n",
        "y=int(input())\n",
        "\n",
        "#addition \n",
        "print(x + y)\t\n",
        "\n",
        "#Subtraction\t\n",
        "print(x - y)\t\n",
        "\n",
        "#Multiplication\n",
        "print(x * y)\t\n",
        "\n",
        "#Division\t\n",
        "print(x / y)\t\n",
        "\n",
        "#Modulus\t\n",
        "print(x % y)\t\n",
        "\n",
        "#Exponential\n",
        "print(x ** y)\t\n",
        "\n",
        "#Floor division\t\n",
        "print(x // y)"
      ],
      "metadata": {
        "id": "i4ai4Dn7wlLA"
      },
      "execution_count": null,
      "outputs": []
    },
    {
      "cell_type": "code",
      "source": [
        "#assignment operators\n",
        "x = 5\t\n",
        "print(x)\n",
        "\n",
        "#x += 3\t\n",
        "x = x + 3\t\n",
        "print(x)\n",
        "\n",
        "#-=\tx -= 3\t\n",
        "x = x - 3\t\n",
        "print(x)\n",
        "\n",
        "#*=\tx *= 3\t\n",
        "x = x * 3\t\n",
        "print(x)\n",
        "\n",
        "#/=\tx /= 3\t\n",
        "x = x / 3\t\n",
        "print(x)\n",
        "\n",
        "#%=\tx %= 3\t\n",
        "x = x % 3\t\n",
        "print(x)\n",
        "\n",
        "#//=\tx //= 3\t\n",
        "x = x // 3\n",
        "print(x)\t\n",
        "\n",
        "#**=\tx **= 3\t\n",
        "x = x ** 3\n",
        "print(x)\n",
        "\n",
        "y=5\n",
        "#&=\ty &= 3\t\n",
        "y = y & 3\t\n",
        "#print(y)\n",
        "\n",
        "#|=\ty |= 3\t\n",
        "y = y | 3\t\n",
        "print(x)\n",
        "\n",
        "#^=\ty ^= 3\t\n",
        "y = y ^ 3\t\n",
        "print(x)\n",
        "\n",
        "#>>=\ty >>= 3\t\n",
        "y = y >> 3\t\n",
        "print(x)\n",
        "\n",
        "#<<=\ty <<= 3\t\n",
        "y = y << 3\n",
        "print(x)"
      ],
      "metadata": {
        "id": "97hzv2VyxzME"
      },
      "execution_count": null,
      "outputs": []
    },
    {
      "cell_type": "code",
      "source": [
        "#Comparison Operators\n",
        "x=int(input())\n",
        "y=int(input())\n",
        "#==\tEqual\t\n",
        "print(x == y)\t\n",
        "#!=\tNot equal\t\n",
        "print(x != y)\t\n",
        "#>\tGreater than\t\n",
        "print(x > y)\t\t\n",
        "#<\tLess than\t\n",
        "print(x < y)\t\n",
        "#>=\tGreater than or equal to\t\n",
        "print(x >= y)\t\t\n",
        "#<=\tLess than or equal to\t\n",
        "print(x <= y)\t"
      ],
      "metadata": {
        "id": "NnRXhYXn-CXX"
      },
      "execution_count": null,
      "outputs": []
    },
    {
      "cell_type": "code",
      "source": [
        "#Logical Operators\n",
        "x=int(input())\n",
        "#and \tReturns True if both statements are true\t\n",
        "print(x < 5 and  x < 10)\t\n",
        "#or\tReturns True if one of the statements is true\t\n",
        "print(x < 5 or x < 4)\t\n",
        "#not\tReverse the result, returns False if the result is true\t\n",
        "print(not(x < 5 and x < 10))"
      ],
      "metadata": {
        "id": "OXmTLwEMAYVh"
      },
      "execution_count": null,
      "outputs": []
    },
    {
      "cell_type": "code",
      "source": [
        "#Membership Operators\n",
        "x=9\n",
        "y=3\n",
        "#is \tReturns True if both variables are the same object\t\n",
        "print(x is y)\t\n",
        "#is not\tReturns True if both variables are not the same object\t\n",
        "print(x is not y)"
      ],
      "metadata": {
        "id": "8bkuGyEsBcn7"
      },
      "execution_count": null,
      "outputs": []
    },
    {
      "cell_type": "code",
      "source": [
        "#Bitwise Operators\n",
        "x=4\n",
        "y=3\n",
        "\n",
        "#& \tAND\tSets each bit to 1 if both bits are 1\n",
        "print(x&y)\n",
        "#|\tOR\tSets each bit to 1 if one of two bits is 1\n",
        "print(x|y)\n",
        "#^\tXOR\tSets each bit to 1 if only one of two bits is 1\n",
        "print(x^y)\n",
        "#!=\tNOT\tInverts all the bits\n",
        "print(x!=y)\n",
        "#<<\tZero fill left shift\tShift left by pushing zeros in from the right and let the leftmost bits fall off\n",
        "print(x<<y)\n",
        "#>>\tSigned right shift\tShift right by pushing copies of the leftmost bit in from the left, and let the rightmost bits fall off\n",
        "print(x>>y)"
      ],
      "metadata": {
        "id": "gITuvf3qF0up"
      },
      "execution_count": null,
      "outputs": []
    },
    {
      "cell_type": "code",
      "source": [
        "print('A series of characters designated as one object known as a string'[::-1][4::3])"
      ],
      "metadata": {
        "colab": {
          "base_uri": "https://localhost:8080/"
        },
        "id": "fOjxfLbxHkAS",
        "outputId": "afac84d3-7cfd-4a94-fbc9-f94676fd18db"
      },
      "execution_count": null,
      "outputs": [
        {
          "output_type": "stream",
          "name": "stdout",
          "text": [
            "taawkcbe  tgestrcoeeA\n"
          ]
        }
      ]
    },
    {
      "cell_type": "code",
      "source": [
        "textt=\"was it a car or a cat I saw\"\n",
        "e=textt.upper()\n",
        "print(e)"
      ],
      "metadata": {
        "id": "IeSBIk6DHj1P"
      },
      "execution_count": null,
      "outputs": []
    },
    {
      "cell_type": "code",
      "source": [
        "#You are required to generate a word similar to ZOO, X and Y that denote the number of Zs and Os respectively. The generated word similar to ZOO where Y= 2 * X. \n",
        "#Input X= 2 Output ZZOOOO \n",
        "#Input X= 5 Output ZZZZZOOOOOOOOOO \n",
        "X=int(input())\n",
        "Y=2*X\n",
        "print(\"Z\"*X+\"O\"*Y)"
      ],
      "metadata": {
        "id": "Q-goWgUkHPGZ"
      },
      "execution_count": null,
      "outputs": []
    }
  ]
}